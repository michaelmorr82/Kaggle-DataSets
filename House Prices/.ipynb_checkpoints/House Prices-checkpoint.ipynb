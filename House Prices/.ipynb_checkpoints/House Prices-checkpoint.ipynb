{
 "cells": [
  {
   "cell_type": "markdown",
   "metadata": {},
   "source": [
    "# House Prices - Advanced Regression Techniques\n",
    "the data can be found at th following link\n",
    "https://www.kaggle.com/c/house-prices-advanced-regression-techniques"
   ]
  },
  {
   "cell_type": "code",
   "execution_count": 220,
   "metadata": {
    "collapsed": true
   },
   "outputs": [],
   "source": [
    "import pandas as pd # exploring and manipulating data.\n",
    "import numpy as np # arrays, algebra\n",
    "import matplotlib.pyplot as plt #2-d plotting\n",
    "import sympy\n",
    "import seaborn as sns # statistical data visualisation"
   ]
  },
  {
   "cell_type": "markdown",
   "metadata": {},
   "source": [
    "### Import Data"
   ]
  },
  {
   "cell_type": "code",
   "execution_count": 221,
   "metadata": {},
   "outputs": [],
   "source": [
    "\n",
    "File_name_train = 'data/train.csv'\n",
    "File_name_test = 'data/test.csv'\n",
    "\n",
    "# import training and test data\n",
    "data_train = pd.read_csv(File_name_train)\n",
    "data_test = pd.read_csv(File_name_test)"
   ]
  },
  {
   "cell_type": "markdown",
   "metadata": {},
   "source": [
    "## Become familiar with data"
   ]
  },
  {
   "cell_type": "markdown",
   "metadata": {},
   "source": [
    "### Size of data"
   ]
  },
  {
   "cell_type": "code",
   "execution_count": 222,
   "metadata": {},
   "outputs": [
    {
     "name": "stdout",
     "output_type": "stream",
     "text": [
      "\n",
      "\n",
      "Data = Training Data\n",
      "Number of training examples: 1460\n",
      "Number of features (including output): 81\n",
      "\n",
      "Data = Test Data\n",
      "Number of training examples: 1459\n",
      "Number of features (excluding output): 80\n"
     ]
    }
   ],
   "source": [
    "#shape command will give number of rows/samples/examples and number of columns/features/predictors in dataset\n",
    "#(rows,columns)\n",
    "m,n = data_train.shape\n",
    "m_test, n_test = data_test.shape\n",
    "\n",
    "print('\\n\\nData = Training Data')\n",
    "print('Number of training examples: %d'%(m))\n",
    "print('Number of features (including output): %d'%(n))\n",
    "\n",
    "print('\\nData = Test Data')\n",
    "print('Number of training examples: %d'%(m_test))\n",
    "print('Number of features (excluding output): %d'%(n_test))\n"
   ]
  },
  {
   "cell_type": "markdown",
   "metadata": {},
   "source": [
    "# Features"
   ]
  },
  {
   "cell_type": "code",
   "execution_count": 223,
   "metadata": {},
   "outputs": [
    {
     "name": "stdout",
     "output_type": "stream",
     "text": [
      "\n",
      "\n",
      " The following are the features for the \n",
      "\tTRAIN (n  = 81) \t\t\t TEST (n = 80)\n",
      "1 \t. Id \t\t\t\t Id\n",
      "2 \t. MSSubClass \t\t\t\t MSSubClass\n",
      "3 \t. MSZoning \t\t\t\t MSZoning\n",
      "4 \t. LotFrontage \t\t\t\t LotFrontage\n",
      "5 \t. LotArea \t\t\t\t LotArea\n",
      "6 \t. Street \t\t\t\t Street\n",
      "7 \t. Alley \t\t\t\t Alley\n",
      "8 \t. LotShape \t\t\t\t LotShape\n",
      "9 \t. LandContour \t\t\t\t LandContour\n",
      "10 \t. Utilities \t\t\t\t Utilities\n",
      "11 \t. LotConfig \t\t\t\t LotConfig\n",
      "12 \t. LandSlope \t\t\t\t LandSlope\n",
      "13 \t. Neighborhood \t\t\t\t Neighborhood\n",
      "14 \t. Condition1 \t\t\t\t Condition1\n",
      "15 \t. Condition2 \t\t\t\t Condition2\n",
      "16 \t. BldgType \t\t\t\t BldgType\n",
      "17 \t. HouseStyle \t\t\t\t HouseStyle\n",
      "18 \t. OverallQual \t\t\t\t OverallQual\n",
      "19 \t. OverallCond \t\t\t\t OverallCond\n",
      "20 \t. YearBuilt \t\t\t\t YearBuilt\n",
      "21 \t. YearRemodAdd \t\t\t\t YearRemodAdd\n",
      "22 \t. RoofStyle \t\t\t\t RoofStyle\n",
      "23 \t. RoofMatl \t\t\t\t RoofMatl\n",
      "24 \t. Exterior1st \t\t\t\t Exterior1st\n",
      "25 \t. Exterior2nd \t\t\t\t Exterior2nd\n",
      "26 \t. MasVnrType \t\t\t\t MasVnrType\n",
      "27 \t. MasVnrArea \t\t\t\t MasVnrArea\n",
      "28 \t. ExterQual \t\t\t\t ExterQual\n",
      "29 \t. ExterCond \t\t\t\t ExterCond\n",
      "30 \t. Foundation \t\t\t\t Foundation\n",
      "31 \t. BsmtQual \t\t\t\t BsmtQual\n",
      "32 \t. BsmtCond \t\t\t\t BsmtCond\n",
      "33 \t. BsmtExposure \t\t\t\t BsmtExposure\n",
      "34 \t. BsmtFinType1 \t\t\t\t BsmtFinType1\n",
      "35 \t. BsmtFinSF1 \t\t\t\t BsmtFinSF1\n",
      "36 \t. BsmtFinType2 \t\t\t\t BsmtFinType2\n",
      "37 \t. BsmtFinSF2 \t\t\t\t BsmtFinSF2\n",
      "38 \t. BsmtUnfSF \t\t\t\t BsmtUnfSF\n",
      "39 \t. TotalBsmtSF \t\t\t\t TotalBsmtSF\n",
      "40 \t. Heating \t\t\t\t Heating\n",
      "41 \t. HeatingQC \t\t\t\t HeatingQC\n",
      "42 \t. CentralAir \t\t\t\t CentralAir\n",
      "43 \t. Electrical \t\t\t\t Electrical\n",
      "44 \t. 1stFlrSF \t\t\t\t 1stFlrSF\n",
      "45 \t. 2ndFlrSF \t\t\t\t 2ndFlrSF\n",
      "46 \t. LowQualFinSF \t\t\t\t LowQualFinSF\n",
      "47 \t. GrLivArea \t\t\t\t GrLivArea\n",
      "48 \t. BsmtFullBath \t\t\t\t BsmtFullBath\n",
      "49 \t. BsmtHalfBath \t\t\t\t BsmtHalfBath\n",
      "50 \t. FullBath \t\t\t\t FullBath\n",
      "51 \t. HalfBath \t\t\t\t HalfBath\n",
      "52 \t. BedroomAbvGr \t\t\t\t BedroomAbvGr\n",
      "53 \t. KitchenAbvGr \t\t\t\t KitchenAbvGr\n",
      "54 \t. KitchenQual \t\t\t\t KitchenQual\n",
      "55 \t. TotRmsAbvGrd \t\t\t\t TotRmsAbvGrd\n",
      "56 \t. Functional \t\t\t\t Functional\n",
      "57 \t. Fireplaces \t\t\t\t Fireplaces\n",
      "58 \t. FireplaceQu \t\t\t\t FireplaceQu\n",
      "59 \t. GarageType \t\t\t\t GarageType\n",
      "60 \t. GarageYrBlt \t\t\t\t GarageYrBlt\n",
      "61 \t. GarageFinish \t\t\t\t GarageFinish\n",
      "62 \t. GarageCars \t\t\t\t GarageCars\n",
      "63 \t. GarageArea \t\t\t\t GarageArea\n",
      "64 \t. GarageQual \t\t\t\t GarageQual\n",
      "65 \t. GarageCond \t\t\t\t GarageCond\n",
      "66 \t. PavedDrive \t\t\t\t PavedDrive\n",
      "67 \t. WoodDeckSF \t\t\t\t WoodDeckSF\n",
      "68 \t. OpenPorchSF \t\t\t\t OpenPorchSF\n",
      "69 \t. EnclosedPorch \t\t\t\t EnclosedPorch\n",
      "70 \t. 3SsnPorch \t\t\t\t 3SsnPorch\n",
      "71 \t. ScreenPorch \t\t\t\t ScreenPorch\n",
      "72 \t. PoolArea \t\t\t\t PoolArea\n",
      "73 \t. PoolQC \t\t\t\t PoolQC\n",
      "74 \t. Fence \t\t\t\t Fence\n",
      "75 \t. MiscFeature \t\t\t\t MiscFeature\n",
      "76 \t. MiscVal \t\t\t\t MiscVal\n",
      "77 \t. MoSold \t\t\t\t MoSold\n",
      "78 \t. YrSold \t\t\t\t YrSold\n",
      "79 \t. SaleType \t\t\t\t SaleType\n",
      "80 \t. SaleCondition \t\t\t\t SaleCondition\n",
      "81 \t. SalePrice\n"
     ]
    }
   ],
   "source": [
    "#all features\n",
    "print('\\n\\n The following are the features for the ')\n",
    "\n",
    "print('\\tTRAIN (n  = %.0f) \\t\\t\\t TEST (n = %.0f)'%(n, n_test))\n",
    "cnt = 0\n",
    "\n",
    "for feature in data_train.columns:\n",
    "    cnt += 1\n",
    "    if cnt <= n_test:\n",
    "        print('%d \\t.'%(cnt), feature,'\\t\\t\\t\\t',data_test.columns[cnt-1])\n",
    "    else:\n",
    "        print('%d \\t.'%(cnt), feature)"
   ]
  },
  {
   "cell_type": "markdown",
   "metadata": {},
   "source": [
    "#### Data Types"
   ]
  },
  {
   "cell_type": "code",
   "execution_count": 224,
   "metadata": {},
   "outputs": [
    {
     "name": "stdout",
     "output_type": "stream",
     "text": [
      "\n",
      "data types of features:\n",
      "\tTRAIN \t\t TEST\n",
      "int64:\t3         \t11\n",
      "object:\t35        \t26\n",
      "dtype:\t43        \t43\n"
     ]
    }
   ],
   "source": [
    "#How many columns with different datatypes are there?\n",
    "print('\\ndata types of features:')\n",
    "\n",
    "cnt = 0\n",
    "d_type = ['float64', 'int64','object','dtype']\n",
    "\n",
    "print('\\tTRAIN \\t\\t TEST')\n",
    "for c1, c2 in zip(data_train.get_dtype_counts(), data_test.get_dtype_counts()):\n",
    "    cnt += 1\n",
    "    print(\"%s:\\t%-9s \\t%s\"%(d_type[cnt],c1, c2))\n",
    "    \n"
   ]
  },
  {
   "cell_type": "markdown",
   "metadata": {},
   "source": [
    "#### Information on all features"
   ]
  },
  {
   "cell_type": "code",
   "execution_count": 225,
   "metadata": {},
   "outputs": [
    {
     "name": "stdout",
     "output_type": "stream",
     "text": [
      "\n",
      "\n",
      "TRAINING data Information: \n",
      "<class 'pandas.core.frame.DataFrame'>\n",
      "RangeIndex: 1460 entries, 0 to 1459\n",
      "Data columns (total 81 columns):\n",
      "Id               1460 non-null int64\n",
      "MSSubClass       1460 non-null int64\n",
      "MSZoning         1460 non-null object\n",
      "LotFrontage      1201 non-null float64\n",
      "LotArea          1460 non-null int64\n",
      "Street           1460 non-null object\n",
      "Alley            91 non-null object\n",
      "LotShape         1460 non-null object\n",
      "LandContour      1460 non-null object\n",
      "Utilities        1460 non-null object\n",
      "LotConfig        1460 non-null object\n",
      "LandSlope        1460 non-null object\n",
      "Neighborhood     1460 non-null object\n",
      "Condition1       1460 non-null object\n",
      "Condition2       1460 non-null object\n",
      "BldgType         1460 non-null object\n",
      "HouseStyle       1460 non-null object\n",
      "OverallQual      1460 non-null int64\n",
      "OverallCond      1460 non-null int64\n",
      "YearBuilt        1460 non-null int64\n",
      "YearRemodAdd     1460 non-null int64\n",
      "RoofStyle        1460 non-null object\n",
      "RoofMatl         1460 non-null object\n",
      "Exterior1st      1460 non-null object\n",
      "Exterior2nd      1460 non-null object\n",
      "MasVnrType       1452 non-null object\n",
      "MasVnrArea       1452 non-null float64\n",
      "ExterQual        1460 non-null object\n",
      "ExterCond        1460 non-null object\n",
      "Foundation       1460 non-null object\n",
      "BsmtQual         1423 non-null object\n",
      "BsmtCond         1423 non-null object\n",
      "BsmtExposure     1422 non-null object\n",
      "BsmtFinType1     1423 non-null object\n",
      "BsmtFinSF1       1460 non-null int64\n",
      "BsmtFinType2     1422 non-null object\n",
      "BsmtFinSF2       1460 non-null int64\n",
      "BsmtUnfSF        1460 non-null int64\n",
      "TotalBsmtSF      1460 non-null int64\n",
      "Heating          1460 non-null object\n",
      "HeatingQC        1460 non-null object\n",
      "CentralAir       1460 non-null object\n",
      "Electrical       1459 non-null object\n",
      "1stFlrSF         1460 non-null int64\n",
      "2ndFlrSF         1460 non-null int64\n",
      "LowQualFinSF     1460 non-null int64\n",
      "GrLivArea        1460 non-null int64\n",
      "BsmtFullBath     1460 non-null int64\n",
      "BsmtHalfBath     1460 non-null int64\n",
      "FullBath         1460 non-null int64\n",
      "HalfBath         1460 non-null int64\n",
      "BedroomAbvGr     1460 non-null int64\n",
      "KitchenAbvGr     1460 non-null int64\n",
      "KitchenQual      1460 non-null object\n",
      "TotRmsAbvGrd     1460 non-null int64\n",
      "Functional       1460 non-null object\n",
      "Fireplaces       1460 non-null int64\n",
      "FireplaceQu      770 non-null object\n",
      "GarageType       1379 non-null object\n",
      "GarageYrBlt      1379 non-null float64\n",
      "GarageFinish     1379 non-null object\n",
      "GarageCars       1460 non-null int64\n",
      "GarageArea       1460 non-null int64\n",
      "GarageQual       1379 non-null object\n",
      "GarageCond       1379 non-null object\n",
      "PavedDrive       1460 non-null object\n",
      "WoodDeckSF       1460 non-null int64\n",
      "OpenPorchSF      1460 non-null int64\n",
      "EnclosedPorch    1460 non-null int64\n",
      "3SsnPorch        1460 non-null int64\n",
      "ScreenPorch      1460 non-null int64\n",
      "PoolArea         1460 non-null int64\n",
      "PoolQC           7 non-null object\n",
      "Fence            281 non-null object\n",
      "MiscFeature      54 non-null object\n",
      "MiscVal          1460 non-null int64\n",
      "MoSold           1460 non-null int64\n",
      "YrSold           1460 non-null int64\n",
      "SaleType         1460 non-null object\n",
      "SaleCondition    1460 non-null object\n",
      "SalePrice        1460 non-null int64\n",
      "dtypes: float64(3), int64(35), object(43)\n",
      "memory usage: 924.0+ KB\n",
      "\n",
      "\n",
      "TEST data Information: \n",
      "<class 'pandas.core.frame.DataFrame'>\n",
      "RangeIndex: 1459 entries, 0 to 1458\n",
      "Data columns (total 80 columns):\n",
      "Id               1459 non-null int64\n",
      "MSSubClass       1459 non-null int64\n",
      "MSZoning         1455 non-null object\n",
      "LotFrontage      1232 non-null float64\n",
      "LotArea          1459 non-null int64\n",
      "Street           1459 non-null object\n",
      "Alley            107 non-null object\n",
      "LotShape         1459 non-null object\n",
      "LandContour      1459 non-null object\n",
      "Utilities        1457 non-null object\n",
      "LotConfig        1459 non-null object\n",
      "LandSlope        1459 non-null object\n",
      "Neighborhood     1459 non-null object\n",
      "Condition1       1459 non-null object\n",
      "Condition2       1459 non-null object\n",
      "BldgType         1459 non-null object\n",
      "HouseStyle       1459 non-null object\n",
      "OverallQual      1459 non-null int64\n",
      "OverallCond      1459 non-null int64\n",
      "YearBuilt        1459 non-null int64\n",
      "YearRemodAdd     1459 non-null int64\n",
      "RoofStyle        1459 non-null object\n",
      "RoofMatl         1459 non-null object\n",
      "Exterior1st      1458 non-null object\n",
      "Exterior2nd      1458 non-null object\n",
      "MasVnrType       1443 non-null object\n",
      "MasVnrArea       1444 non-null float64\n",
      "ExterQual        1459 non-null object\n",
      "ExterCond        1459 non-null object\n",
      "Foundation       1459 non-null object\n",
      "BsmtQual         1415 non-null object\n",
      "BsmtCond         1414 non-null object\n",
      "BsmtExposure     1415 non-null object\n",
      "BsmtFinType1     1417 non-null object\n",
      "BsmtFinSF1       1458 non-null float64\n",
      "BsmtFinType2     1417 non-null object\n",
      "BsmtFinSF2       1458 non-null float64\n",
      "BsmtUnfSF        1458 non-null float64\n",
      "TotalBsmtSF      1458 non-null float64\n",
      "Heating          1459 non-null object\n",
      "HeatingQC        1459 non-null object\n",
      "CentralAir       1459 non-null object\n",
      "Electrical       1459 non-null object\n",
      "1stFlrSF         1459 non-null int64\n",
      "2ndFlrSF         1459 non-null int64\n",
      "LowQualFinSF     1459 non-null int64\n",
      "GrLivArea        1459 non-null int64\n",
      "BsmtFullBath     1457 non-null float64\n",
      "BsmtHalfBath     1457 non-null float64\n",
      "FullBath         1459 non-null int64\n",
      "HalfBath         1459 non-null int64\n",
      "BedroomAbvGr     1459 non-null int64\n",
      "KitchenAbvGr     1459 non-null int64\n",
      "KitchenQual      1458 non-null object\n",
      "TotRmsAbvGrd     1459 non-null int64\n",
      "Functional       1457 non-null object\n",
      "Fireplaces       1459 non-null int64\n",
      "FireplaceQu      729 non-null object\n",
      "GarageType       1383 non-null object\n",
      "GarageYrBlt      1381 non-null float64\n",
      "GarageFinish     1381 non-null object\n",
      "GarageCars       1458 non-null float64\n",
      "GarageArea       1458 non-null float64\n",
      "GarageQual       1381 non-null object\n",
      "GarageCond       1381 non-null object\n",
      "PavedDrive       1459 non-null object\n",
      "WoodDeckSF       1459 non-null int64\n",
      "OpenPorchSF      1459 non-null int64\n",
      "EnclosedPorch    1459 non-null int64\n",
      "3SsnPorch        1459 non-null int64\n",
      "ScreenPorch      1459 non-null int64\n",
      "PoolArea         1459 non-null int64\n",
      "PoolQC           3 non-null object\n",
      "Fence            290 non-null object\n",
      "MiscFeature      51 non-null object\n",
      "MiscVal          1459 non-null int64\n",
      "MoSold           1459 non-null int64\n",
      "YrSold           1459 non-null int64\n",
      "SaleType         1458 non-null object\n",
      "SaleCondition    1459 non-null object\n",
      "dtypes: float64(11), int64(26), object(43)\n",
      "memory usage: 912.0+ KB\n"
     ]
    }
   ],
   "source": [
    "print('\\n\\nTRAINING data Information: ')\n",
    "data_train.info()\n",
    "\n",
    "print('\\n\\nTEST data Information: ')\n",
    "data_test.info()\n",
    "\n"
   ]
  },
  {
   "cell_type": "markdown",
   "metadata": {},
   "source": [
    "#### Object Vrs non-Object"
   ]
  },
  {
   "cell_type": "code",
   "execution_count": 226,
   "metadata": {},
   "outputs": [
    {
     "name": "stdout",
     "output_type": "stream",
     "text": [
      "\n",
      "\n",
      "The following are the non-object features for Training and test data\n",
      "TRAIN (38) \t\t\tTEST (37) \n",
      "1. Id \t\t\t\t Id\n",
      "2. MSSubClass \t\t\t\t MSSubClass\n",
      "3. LotFrontage \t\t\t\t LotFrontage\n",
      "4. LotArea \t\t\t\t LotArea\n",
      "5. OverallQual \t\t\t\t OverallQual\n",
      "6. OverallCond \t\t\t\t OverallCond\n",
      "7. YearBuilt \t\t\t\t YearBuilt\n",
      "8. YearRemodAdd \t\t\t\t YearRemodAdd\n",
      "9. MasVnrArea \t\t\t\t MasVnrArea\n",
      "10. BsmtFinSF1 \t\t\t\t BsmtFinSF1\n",
      "11. BsmtFinSF2 \t\t\t\t BsmtFinSF2\n",
      "12. BsmtUnfSF \t\t\t\t BsmtUnfSF\n",
      "13. TotalBsmtSF \t\t\t\t TotalBsmtSF\n",
      "14. 1stFlrSF \t\t\t\t 1stFlrSF\n",
      "15. 2ndFlrSF \t\t\t\t 2ndFlrSF\n",
      "16. LowQualFinSF \t\t\t\t LowQualFinSF\n",
      "17. GrLivArea \t\t\t\t GrLivArea\n",
      "18. BsmtFullBath \t\t\t\t BsmtFullBath\n",
      "19. BsmtHalfBath \t\t\t\t BsmtHalfBath\n",
      "20. FullBath \t\t\t\t FullBath\n",
      "21. HalfBath \t\t\t\t HalfBath\n",
      "22. BedroomAbvGr \t\t\t\t BedroomAbvGr\n",
      "23. KitchenAbvGr \t\t\t\t KitchenAbvGr\n",
      "24. TotRmsAbvGrd \t\t\t\t TotRmsAbvGrd\n",
      "25. Fireplaces \t\t\t\t Fireplaces\n",
      "26. GarageYrBlt \t\t\t\t GarageYrBlt\n",
      "27. GarageCars \t\t\t\t GarageCars\n",
      "28. GarageArea \t\t\t\t GarageArea\n",
      "29. WoodDeckSF \t\t\t\t WoodDeckSF\n",
      "30. OpenPorchSF \t\t\t\t OpenPorchSF\n",
      "31. EnclosedPorch \t\t\t\t EnclosedPorch\n",
      "32. 3SsnPorch \t\t\t\t 3SsnPorch\n",
      "33. ScreenPorch \t\t\t\t ScreenPorch\n",
      "34. PoolArea \t\t\t\t PoolArea\n",
      "35. MiscVal \t\t\t\t MiscVal\n",
      "36. MoSold \t\t\t\t MoSold\n",
      "37. YrSold \t\t\t\t YrSold\n",
      "38. SalePrice\n",
      "\n",
      "\n",
      "The following are the object features for Training and test data\n",
      "TRAIN (43) \t\t\tTEST (43) \n",
      "1. MSZoning \t\t\t\t MSZoning\n",
      "2. Street \t\t\t\t Street\n",
      "3. Alley \t\t\t\t Alley\n",
      "4. LotShape \t\t\t\t LotShape\n",
      "5. LandContour \t\t\t\t LandContour\n",
      "6. Utilities \t\t\t\t Utilities\n",
      "7. LotConfig \t\t\t\t LotConfig\n",
      "8. LandSlope \t\t\t\t LandSlope\n",
      "9. Neighborhood \t\t\t\t Neighborhood\n",
      "10. Condition1 \t\t\t\t Condition1\n",
      "11. Condition2 \t\t\t\t Condition2\n",
      "12. BldgType \t\t\t\t BldgType\n",
      "13. HouseStyle \t\t\t\t HouseStyle\n",
      "14. RoofStyle \t\t\t\t RoofStyle\n",
      "15. RoofMatl \t\t\t\t RoofMatl\n",
      "16. Exterior1st \t\t\t\t Exterior1st\n",
      "17. Exterior2nd \t\t\t\t Exterior2nd\n",
      "18. MasVnrType \t\t\t\t MasVnrType\n",
      "19. ExterQual \t\t\t\t ExterQual\n",
      "20. ExterCond \t\t\t\t ExterCond\n",
      "21. Foundation \t\t\t\t Foundation\n",
      "22. BsmtQual \t\t\t\t BsmtQual\n",
      "23. BsmtCond \t\t\t\t BsmtCond\n",
      "24. BsmtExposure \t\t\t\t BsmtExposure\n",
      "25. BsmtFinType1 \t\t\t\t BsmtFinType1\n",
      "26. BsmtFinType2 \t\t\t\t BsmtFinType2\n",
      "27. Heating \t\t\t\t Heating\n",
      "28. HeatingQC \t\t\t\t HeatingQC\n",
      "29. CentralAir \t\t\t\t CentralAir\n",
      "30. Electrical \t\t\t\t Electrical\n",
      "31. KitchenQual \t\t\t\t KitchenQual\n",
      "32. Functional \t\t\t\t Functional\n",
      "33. FireplaceQu \t\t\t\t FireplaceQu\n",
      "34. GarageType \t\t\t\t GarageType\n",
      "35. GarageFinish \t\t\t\t GarageFinish\n",
      "36. GarageQual \t\t\t\t GarageQual\n",
      "37. GarageCond \t\t\t\t GarageCond\n",
      "38. PavedDrive \t\t\t\t PavedDrive\n",
      "39. PoolQC \t\t\t\t PoolQC\n",
      "40. Fence \t\t\t\t Fence\n",
      "41. MiscFeature \t\t\t\t MiscFeature\n",
      "42. SaleType \t\t\t\t SaleType\n",
      "43. SaleCondition \t\t\t\t SaleCondition\n"
     ]
    }
   ],
   "source": [
    "print('\\n\\nThe following are the non-object features for Training and test data')  \n",
    "\n",
    "train_feature_nobj = data_train.columns[data_train.dtypes != object]\n",
    "test_feature_nobj = data_test.columns[data_test.dtypes != object]\n",
    "\n",
    "n_nobj_mx = max(len(train_feature_nobj),len(test_feature_nobj))\n",
    "n_nobj_mn = min(len(train_feature_nobj),len(test_feature_nobj))\n",
    "\n",
    "print('TRAIN (%.0f) \\t\\t\\tTEST (%.0f) '%(len(train_feature_nobj),len(test_feature_nobj)))\n",
    "\n",
    "for i in range(0, n_nobj_mx):\n",
    "    if (i) < (n_nobj_mn):\n",
    "        print('%.0f. %s \\t\\t\\t\\t %s'%(i + 1, train_feature_nobj[i],test_feature_nobj[i]))\n",
    "    else:\n",
    "        print('%.0f. %s'%(i + 1,train_feature_nobj[i]))\n",
    "    \n",
    "    \n",
    "print('\\n\\nThe following are the object features for Training and test data')  \n",
    "\n",
    "train_feature_obj = data_train.columns[data_train.dtypes == object]\n",
    "test_feature_obj = data_test.columns[data_test.dtypes == object]\n",
    "\n",
    "n_obj_mx = max(len(train_feature_obj),len(test_feature_obj))\n",
    "n_obj_mn = min(len(train_feature_obj),len(test_feature_obj))\n",
    "\n",
    "print('TRAIN (%.0f) \\t\\t\\tTEST (%.0f) '%(len(train_feature_obj),len(test_feature_obj)))\n",
    "\n",
    "for i in range(0, n_obj_mx):\n",
    "    if (i) < n_obj_mn:\n",
    "        print('%.0f. %s \\t\\t\\t\\t %s'%(i + 1, train_feature_obj[i],test_feature_obj[i]))\n",
    "    else:\n",
    "        print('%.0f.  \\t\\t\\t %s'%(i + 1, train_feature_obj[i]))\n",
    "    \n",
    " "
   ]
  },
  {
   "cell_type": "markdown",
   "metadata": {},
   "source": [
    "### filing in the blank values"
   ]
  },
  {
   "cell_type": "code",
   "execution_count": 227,
   "metadata": {},
   "outputs": [
    {
     "name": "stdout",
     "output_type": "stream",
     "text": [
      "The following is the misstion data:\n",
      "              Total   Percent\n",
      "PoolQC         1453  0.995205\n",
      "MiscFeature    1406  0.963014\n",
      "Alley          1369  0.937671\n",
      "Fence          1179  0.807534\n",
      "FireplaceQu     690  0.472603\n",
      "LotFrontage     259  0.177397\n",
      "GarageCond       81  0.055479\n",
      "GarageType       81  0.055479\n",
      "GarageYrBlt      81  0.055479\n",
      "GarageFinish     81  0.055479\n",
      "GarageQual       81  0.055479\n",
      "BsmtExposure     38  0.026027\n",
      "BsmtFinType2     38  0.026027\n",
      "BsmtFinType1     37  0.025342\n",
      "BsmtCond         37  0.025342\n",
      "BsmtQual         37  0.025342\n",
      "MasVnrArea        8  0.005479\n",
      "MasVnrType        8  0.005479\n",
      "Electrical        1  0.000685\n",
      "Utilities         0  0.000000\n",
      "\n",
      "\n",
      "missing data after deletion = 0\n"
     ]
    }
   ],
   "source": [
    "\n",
    "#missing data\n",
    "total = data_train.isnull().sum().sort_values(ascending = False)\n",
    "percent = (data_train.isnull().sum() / data_train.isnull().count()).sort_values(ascending = False)\n",
    "missing_data = pd.concat([total, percent], axis = 1, keys = ['Total', 'Percent'])\n",
    "\n",
    "\n",
    "print('The following is the misstion data:')\n",
    "print(missing_data.head(20))\n",
    "\n",
    "#dealing with missing data\n",
    "data_train = data_train.drop((missing_data[missing_data['Total'] > 1]).index,1)\n",
    "data_train = data_train.drop(data_train.loc[data_train['Electrical'].isnull()].index)\n",
    "missing_data_now = data_train.isnull().sum().max() #just checking that there's no missing data missing...\n",
    "\n",
    "print('\\n\\nmissing data after deletion = %.0f'%(missing_data_now))"
   ]
  },
  {
   "cell_type": "markdown",
   "metadata": {},
   "source": [
    "## DATA CORRELATIONS:"
   ]
  },
  {
   "cell_type": "code",
   "execution_count": null,
   "metadata": {
    "collapsed": true
   },
   "outputs": [],
   "source": []
  },
  {
   "cell_type": "code",
   "execution_count": null,
   "metadata": {
    "collapsed": true
   },
   "outputs": [],
   "source": []
  },
  {
   "cell_type": "code",
   "execution_count": null,
   "metadata": {
    "collapsed": true
   },
   "outputs": [],
   "source": []
  },
  {
   "cell_type": "code",
   "execution_count": null,
   "metadata": {
    "collapsed": true
   },
   "outputs": [],
   "source": []
  },
  {
   "cell_type": "code",
   "execution_count": null,
   "metadata": {
    "collapsed": true
   },
   "outputs": [],
   "source": []
  },
  {
   "cell_type": "code",
   "execution_count": null,
   "metadata": {
    "collapsed": true
   },
   "outputs": [],
   "source": []
  },
  {
   "cell_type": "code",
   "execution_count": null,
   "metadata": {
    "collapsed": true
   },
   "outputs": [],
   "source": []
  },
  {
   "cell_type": "code",
   "execution_count": null,
   "metadata": {
    "collapsed": true
   },
   "outputs": [],
   "source": []
  },
  {
   "cell_type": "code",
   "execution_count": null,
   "metadata": {
    "collapsed": true
   },
   "outputs": [],
   "source": []
  },
  {
   "cell_type": "code",
   "execution_count": null,
   "metadata": {
    "collapsed": true
   },
   "outputs": [],
   "source": []
  },
  {
   "cell_type": "code",
   "execution_count": null,
   "metadata": {
    "collapsed": true
   },
   "outputs": [],
   "source": []
  },
  {
   "cell_type": "code",
   "execution_count": null,
   "metadata": {
    "collapsed": true
   },
   "outputs": [],
   "source": []
  },
  {
   "cell_type": "code",
   "execution_count": null,
   "metadata": {
    "collapsed": true
   },
   "outputs": [],
   "source": []
  },
  {
   "cell_type": "code",
   "execution_count": null,
   "metadata": {
    "collapsed": true
   },
   "outputs": [],
   "source": []
  }
 ],
 "metadata": {
  "kernelspec": {
   "display_name": "Python 3",
   "language": "python",
   "name": "python3"
  },
  "language_info": {
   "codemirror_mode": {
    "name": "ipython",
    "version": 3
   },
   "file_extension": ".py",
   "mimetype": "text/x-python",
   "name": "python",
   "nbconvert_exporter": "python",
   "pygments_lexer": "ipython3",
   "version": "3.6.2"
  }
 },
 "nbformat": 4,
 "nbformat_minor": 2
}
